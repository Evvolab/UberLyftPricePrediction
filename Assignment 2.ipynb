{
 "cells": [
  {
   "cell_type": "markdown",
   "id": "69b125e3",
   "metadata": {},
   "source": [
    "## Assignment 2\n"
   ]
  },
  {
   "cell_type": "markdown",
   "id": "f0a5490e",
   "metadata": {},
   "source": [
    "### 1. Requirements\n",
    "\n",
    "1. Implement a single neuron neural network, aka, the logistic regression unit. \n",
    "2. Use Log Loss Function, write code to carry out stochastic gradient descent for optimization, and then write a different activation function i.e., replace the sigmoid compression by ReLu or tan.Ideally, implement as a set of functions*.\n",
    "3. Run it on any classification problem using a dataset from the internet (say the titanic dataset).\n",
    "4. Provide accuracy and F1 score of the results. \n",
    "5. Please write code in Python in a Jupyter notebook."
   ]
  },
  {
   "cell_type": "markdown",
   "id": "057f5770",
   "metadata": {},
   "source": [
    "#### 2. Imports"
   ]
  },
  {
   "cell_type": "code",
   "execution_count": 75,
   "id": "spoken-hybrid",
   "metadata": {},
   "outputs": [],
   "source": [
    "import pandas as pd\n",
    "import numpy as np\n",
    "import matplotlib.pyplot as plt\n",
    "import scipy"
   ]
  },
  {
   "cell_type": "markdown",
   "id": "a8cbfcbe",
   "metadata": {},
   "source": [
    "#### 3. Data Ingestion\n",
    "\n",
    "Dataset used on this project is originally from the National Institute of Diabetes and Digestive and Kidney Diseases. The objective is to predict based on diagnostic measurements whether a patient has diabetes.\n",
    "https://www.kaggle.com/datasets/mathchi/diabetes-data-set "
   ]
  },
  {
   "cell_type": "code",
   "execution_count": 76,
   "id": "dangerous-remedy",
   "metadata": {},
   "outputs": [],
   "source": [
    "#Import dataset\n",
    "data= pd.read_csv(\"https://raw.githubusercontent.com/midhunmohank/Advanced-Data-Sciences-and-Architectures/main/diabetes.csv\")"
   ]
  },
  {
   "cell_type": "code",
   "execution_count": 132,
   "id": "shared-harvest",
   "metadata": {},
   "outputs": [
    {
     "data": {
      "text/html": [
       "<div>\n",
       "<style scoped>\n",
       "    .dataframe tbody tr th:only-of-type {\n",
       "        vertical-align: middle;\n",
       "    }\n",
       "\n",
       "    .dataframe tbody tr th {\n",
       "        vertical-align: top;\n",
       "    }\n",
       "\n",
       "    .dataframe thead th {\n",
       "        text-align: right;\n",
       "    }\n",
       "</style>\n",
       "<table border=\"1\" class=\"dataframe\">\n",
       "  <thead>\n",
       "    <tr style=\"text-align: right;\">\n",
       "      <th></th>\n",
       "      <th>Pregnancies</th>\n",
       "      <th>Glucose</th>\n",
       "      <th>BloodPressure</th>\n",
       "      <th>SkinThickness</th>\n",
       "      <th>Insulin</th>\n",
       "      <th>BMI</th>\n",
       "      <th>DiabetesPedigreeFunction</th>\n",
       "      <th>Age</th>\n",
       "      <th>Outcome</th>\n",
       "    </tr>\n",
       "  </thead>\n",
       "  <tbody>\n",
       "    <tr>\n",
       "      <th>0</th>\n",
       "      <td>6</td>\n",
       "      <td>148</td>\n",
       "      <td>72</td>\n",
       "      <td>35</td>\n",
       "      <td>0</td>\n",
       "      <td>33.6</td>\n",
       "      <td>0.627</td>\n",
       "      <td>50</td>\n",
       "      <td>1</td>\n",
       "    </tr>\n",
       "    <tr>\n",
       "      <th>1</th>\n",
       "      <td>1</td>\n",
       "      <td>85</td>\n",
       "      <td>66</td>\n",
       "      <td>29</td>\n",
       "      <td>0</td>\n",
       "      <td>26.6</td>\n",
       "      <td>0.351</td>\n",
       "      <td>31</td>\n",
       "      <td>0</td>\n",
       "    </tr>\n",
       "    <tr>\n",
       "      <th>2</th>\n",
       "      <td>8</td>\n",
       "      <td>183</td>\n",
       "      <td>64</td>\n",
       "      <td>0</td>\n",
       "      <td>0</td>\n",
       "      <td>23.3</td>\n",
       "      <td>0.672</td>\n",
       "      <td>32</td>\n",
       "      <td>1</td>\n",
       "    </tr>\n",
       "    <tr>\n",
       "      <th>3</th>\n",
       "      <td>1</td>\n",
       "      <td>89</td>\n",
       "      <td>66</td>\n",
       "      <td>23</td>\n",
       "      <td>94</td>\n",
       "      <td>28.1</td>\n",
       "      <td>0.167</td>\n",
       "      <td>21</td>\n",
       "      <td>0</td>\n",
       "    </tr>\n",
       "    <tr>\n",
       "      <th>4</th>\n",
       "      <td>0</td>\n",
       "      <td>137</td>\n",
       "      <td>40</td>\n",
       "      <td>35</td>\n",
       "      <td>168</td>\n",
       "      <td>43.1</td>\n",
       "      <td>2.288</td>\n",
       "      <td>33</td>\n",
       "      <td>1</td>\n",
       "    </tr>\n",
       "  </tbody>\n",
       "</table>\n",
       "</div>"
      ],
      "text/plain": [
       "   Pregnancies  Glucose  BloodPressure  SkinThickness  Insulin   BMI  \\\n",
       "0            6      148             72             35        0  33.6   \n",
       "1            1       85             66             29        0  26.6   \n",
       "2            8      183             64              0        0  23.3   \n",
       "3            1       89             66             23       94  28.1   \n",
       "4            0      137             40             35      168  43.1   \n",
       "\n",
       "   DiabetesPedigreeFunction  Age  Outcome  \n",
       "0                     0.627   50        1  \n",
       "1                     0.351   31        0  \n",
       "2                     0.672   32        1  \n",
       "3                     0.167   21        0  \n",
       "4                     2.288   33        1  "
      ]
     },
     "execution_count": 132,
     "metadata": {},
     "output_type": "execute_result"
    }
   ],
   "source": [
    "data.head(5)"
   ]
  },
  {
   "cell_type": "markdown",
   "id": "dbbb09c9",
   "metadata": {},
   "source": [
    "#### 4. Data Preprocessing"
   ]
  },
  {
   "cell_type": "code",
   "execution_count": 134,
   "id": "communist-expert",
   "metadata": {},
   "outputs": [],
   "source": [
    "#Train, test and validation spilt\n",
    "from sklearn.model_selection import train_test_split\n",
    "\n",
    "data_set_values=np.array(data)\n",
    "number_of_rows,number_of_cols=data.shape\n",
    "train, test = train_test_split(data_set_values, test_size = 0.4,random_state=57)\n",
    "test, validate = train_test_split(test, test_size = 0.5,random_state=3)"
   ]
  },
  {
   "cell_type": "code",
   "execution_count": 135,
   "id": "metallic-poison",
   "metadata": {},
   "outputs": [],
   "source": [
    "#Spilt all sets into input and output sets\n",
    "train_x=train[:,:number_of_cols-1]\n",
    "train_y=train[:,[number_of_cols-1]]\n",
    "\n",
    "test_x=test[:,:number_of_cols-1]\n",
    "test_y=test[:,[number_of_cols-1]]\n",
    "\n",
    "validate_x=validate[:,:number_of_cols-1]\n",
    "validate_y=validate[:,[number_of_cols-1]]\n",
    "\n",
    "#perform normalization on the input data set\n",
    "input_data= np.vstack((train_x,test_x,validate_x))\n",
    "mean_data = np.mean(input_data, axis=0)\n",
    "std_data = np.std(input_data, axis=0)\n",
    "train_x = (train_x - mean_data)/std_data\n",
    "test_x = (test_x - mean_data)/std_data\n",
    "validate_x = (validate_x - mean_data)/std_data"
   ]
  },
  {
   "cell_type": "markdown",
   "id": "673d7217",
   "metadata": {},
   "source": [
    "### 5. Logistic Regression Function with Log Loss, Stochatic Gradient Descent and Relu Functions"
   ]
  },
  {
   "cell_type": "code",
   "execution_count": 137,
   "id": "prescription-namibia",
   "metadata": {},
   "outputs": [],
   "source": [
    "#Logistic Regression - Model Definition\n",
    "class logisticRegression:\n",
    "    def __init__(self,total_iterations,learning_rate):\n",
    "        self.learning_rate=learning_rate\n",
    "        self.total_iterations=total_iterations\n",
    "        self.bias=0\n",
    "        \n",
    "    #Activation function\n",
    "    def sigmoidFunction(self,X): \n",
    "        return 1/(1+np.exp(-X))\n",
    "#         return 1/(1+scipy.special.expit(-X))\n",
    "    def relu(self,Y):\n",
    "        return (np.maximum(0,Y))\n",
    "\n",
    "\n",
    "    #Training function\n",
    "    def train(self,input,Y): \n",
    "\n",
    "        rows,cols=input.shape\n",
    "        self.m=rows\n",
    "        self.w=np.zeros((cols,1))\n",
    "        costList=[]\n",
    "        iterationList=[]\n",
    "        for _ in range(self.total_iterations+1):\n",
    "            # y= x * w + b\n",
    "            output=np.dot(input,self.w)+self.bias\n",
    "            \n",
    "            #Apply Relu function\n",
    "            Z = self.relu(output)\n",
    "\n",
    "            #Apply Logistic Regression\n",
    "            Z=self.sigmoidFunction(output)\n",
    "\n",
    "\n",
    "            #calculating cost with Log Loss Method/CrossEntropy\n",
    "            cost=(-1/self.m)*np.sum((Y*np.log(Z))+(1-Y)*np.log(1-Z))\n",
    "            \n",
    "            if _%1000==0:\n",
    "#                 print(\"loss during \",_,\" iteration =\",cost)\n",
    "                iterationList.append(_)\n",
    "                costList.append(cost)\n",
    "            \n",
    "            #Gradient Descent\n",
    "            dw=(1/self.m)*np.dot(input.T,np.subtract(Z,Y))\n",
    "            db=(1/self.m)*np.sum(np.subtract(Z,Y))\n",
    "            \n",
    "            #updating weights and bais (Learning Part)\n",
    "            self.w = self.w-self.learning_rate*dw\n",
    "            self.bias = self.bias - self.learning_rate*db\n",
    "        print(cost)\n",
    "        plt.plot(iterationList, costList)\n",
    "        plt.title(\"Cost Relation\")\n",
    "        plt.xlabel(\"Iterations\")\n",
    "        plt.ylabel(\"Cost\")\n",
    "        plt.show()\n",
    "        return \n",
    "\n",
    "    #Prediction function\n",
    "    def predict(self,input):\n",
    "        output=np.dot(input,self.w)+self.bias\n",
    "        Z=self.sigmoidFunction(output)\n",
    "        # if output more than 0.5 then yes else no. (Binary Classification)\n",
    "        prediction=[]\n",
    "        for i in Z:\n",
    "            if i>=0.5:\n",
    "                prediction.append(1)\n",
    "            else:\n",
    "                prediction.append(0)\n",
    "        return prediction"
   ]
  },
  {
   "cell_type": "code",
   "execution_count": 138,
   "id": "postal-spider",
   "metadata": {},
   "outputs": [],
   "source": [
    "model=logisticRegression(total_iterations=10000,learning_rate=0.001)"
   ]
  },
  {
   "cell_type": "code",
   "execution_count": 139,
   "id": "introductory-showcase",
   "metadata": {},
   "outputs": [
    {
     "name": "stdout",
     "output_type": "stream",
     "text": [
      "0.5104049375439529\n"
     ]
    },
    {
     "data": {
      "image/png": "[encoded data removed]",
      "text/plain": [
       "<Figure size 432x288 with 1 Axes>"
      ]
     },
     "metadata": {
      "needs_background": "light"
     },
     "output_type": "display_data"
    }
   ],
   "source": [
    "model.train(train_x,train_y)"
   ]
  },
  {
   "cell_type": "code",
   "execution_count": 140,
   "id": "accepting-canal",
   "metadata": {},
   "outputs": [],
   "source": [
    "test_prediction = model.predict(test_x)"
   ]
  },
  {
   "cell_type": "code",
   "execution_count": 143,
   "id": "8464a81a",
   "metadata": {},
   "outputs": [],
   "source": [
    "#Metrics\n",
    "def Metrics(y_actual,y_hat):\n",
    "    TP = 0 #True Positives\n",
    "    FP = 0 # False Positives\n",
    "    TN = 0 # True Negatives\n",
    "    FN = 0 # False Negatives\n",
    "\n",
    "    for i in range(len(y_hat)): \n",
    "        if y_actual[i]==y_hat[i]==1:\n",
    "            TP += 1\n",
    "        if y_hat[i]==1 and y_actual[i]!=y_hat[i]:\n",
    "            FP += 1\n",
    "        if y_actual[i]==y_hat[i]==0:\n",
    "            TN += 1\n",
    "        if y_hat[i]==0 and y_actual[i]!=y_hat[i]:\n",
    "            FN += 1\n",
    "    \n",
    "    precision = TP / (FP + TP)\n",
    "    recall = TP / (FN + TP)\n",
    "    accuracy = (TP + TN)/ (TP + FN + TN + FP)\n",
    "    F1_Score = 2* precision * recall/ (precision + recall)\n",
    "    print(f'Accuracy: {accuracy} %')\n",
    "    print(f'Precision:{precision}')\n",
    "    print(f'Recall Score:{recall}')\n",
    "    print(f'F1 Score:{F1_Score}')"
   ]
  },
  {
   "cell_type": "code",
   "execution_count": 144,
   "id": "d5a9b5d1",
   "metadata": {},
   "outputs": [
    {
     "name": "stdout",
     "output_type": "stream",
     "text": [
      "Accuracy: 0.8116883116883117 %\n",
      "Precision:0.75\n",
      "Recall Score:0.7090909090909091\n",
      "F1 Score:0.7289719626168225\n"
     ]
    }
   ],
   "source": [
    "Metrics(test_y,test_prediction)"
   ]
  }
 ],
 "metadata": {
  "kernelspec": {
   "display_name": "Python 3.9.12 ('base')",
   "language": "python",
   "name": "python3"
  },
  "language_info": {
   "codemirror_mode": {
    "name": "ipython",
    "version": 3
   },
   "file_extension": ".py",
   "mimetype": "text/x-python",
   "name": "python",
   "nbconvert_exporter": "python",
   "pygments_lexer": "ipython3",
   "version": "3.9.12"
  },
  "vscode": {
   "interpreter": {
    "hash": "ddcff88f20c5f9bf7718f446bdd3a77192143b2f59e73a09311788c03dde77eb"
   }
  }
 },
 "nbformat": 4,
 "nbformat_minor": 5
}
