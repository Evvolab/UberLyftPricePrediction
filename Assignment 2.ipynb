{
 "cells": [
  {
   "cell_type": "markdown",
   "id": "69b125e3",
   "metadata": {},
   "source": [
    "Assignment 2\n"
   ]
  },
  {
   "cell_type": "code",
   "execution_count": 44,
   "id": "spoken-hybrid",
   "metadata": {},
   "outputs": [],
   "source": [
    "import pandas as pd\n",
    "import numpy as np\n",
    "import matplotlib.pyplot as plt\n",
    "import scipy"
   ]
  },
  {
   "cell_type": "code",
   "execution_count": 45,
   "id": "dangerous-remedy",
   "metadata": {},
   "outputs": [],
   "source": [
    "#Import dataset\n",
    "data= pd.read_csv(\"https://raw.githubusercontent.com/midhunmohank/Advanced-Data-Sciences-and-Architectures/main/diabetes.csv\")"
   ]
  },
  {
   "cell_type": "code",
   "execution_count": 46,
   "id": "shared-harvest",
   "metadata": {},
   "outputs": [
    {
     "data": {
      "text/html": [
       "<div>\n",
       "<style scoped>\n",
       "    .dataframe tbody tr th:only-of-type {\n",
       "        vertical-align: middle;\n",
       "    }\n",
       "\n",
       "    .dataframe tbody tr th {\n",
       "        vertical-align: top;\n",
       "    }\n",
       "\n",
       "    .dataframe thead th {\n",
       "        text-align: right;\n",
       "    }\n",
       "</style>\n",
       "<table border=\"1\" class=\"dataframe\">\n",
       "  <thead>\n",
       "    <tr style=\"text-align: right;\">\n",
       "      <th></th>\n",
       "      <th>Pregnancies</th>\n",
       "      <th>Glucose</th>\n",
       "      <th>BloodPressure</th>\n",
       "      <th>SkinThickness</th>\n",
       "      <th>Insulin</th>\n",
       "      <th>BMI</th>\n",
       "      <th>DiabetesPedigreeFunction</th>\n",
       "      <th>Age</th>\n",
       "      <th>Outcome</th>\n",
       "    </tr>\n",
       "  </thead>\n",
       "  <tbody>\n",
       "    <tr>\n",
       "      <th>0</th>\n",
       "      <td>6</td>\n",
       "      <td>148</td>\n",
       "      <td>72</td>\n",
       "      <td>35</td>\n",
       "      <td>0</td>\n",
       "      <td>33.6</td>\n",
       "      <td>0.627</td>\n",
       "      <td>50</td>\n",
       "      <td>1</td>\n",
       "    </tr>\n",
       "    <tr>\n",
       "      <th>1</th>\n",
       "      <td>1</td>\n",
       "      <td>85</td>\n",
       "      <td>66</td>\n",
       "      <td>29</td>\n",
       "      <td>0</td>\n",
       "      <td>26.6</td>\n",
       "      <td>0.351</td>\n",
       "      <td>31</td>\n",
       "      <td>0</td>\n",
       "    </tr>\n",
       "    <tr>\n",
       "      <th>2</th>\n",
       "      <td>8</td>\n",
       "      <td>183</td>\n",
       "      <td>64</td>\n",
       "      <td>0</td>\n",
       "      <td>0</td>\n",
       "      <td>23.3</td>\n",
       "      <td>0.672</td>\n",
       "      <td>32</td>\n",
       "      <td>1</td>\n",
       "    </tr>\n",
       "    <tr>\n",
       "      <th>3</th>\n",
       "      <td>1</td>\n",
       "      <td>89</td>\n",
       "      <td>66</td>\n",
       "      <td>23</td>\n",
       "      <td>94</td>\n",
       "      <td>28.1</td>\n",
       "      <td>0.167</td>\n",
       "      <td>21</td>\n",
       "      <td>0</td>\n",
       "    </tr>\n",
       "    <tr>\n",
       "      <th>4</th>\n",
       "      <td>0</td>\n",
       "      <td>137</td>\n",
       "      <td>40</td>\n",
       "      <td>35</td>\n",
       "      <td>168</td>\n",
       "      <td>43.1</td>\n",
       "      <td>2.288</td>\n",
       "      <td>33</td>\n",
       "      <td>1</td>\n",
       "    </tr>\n",
       "  </tbody>\n",
       "</table>\n",
       "</div>"
      ],
      "text/plain": [
       "   Pregnancies  Glucose  BloodPressure  SkinThickness  Insulin   BMI  \\\n",
       "0            6      148             72             35        0  33.6   \n",
       "1            1       85             66             29        0  26.6   \n",
       "2            8      183             64              0        0  23.3   \n",
       "3            1       89             66             23       94  28.1   \n",
       "4            0      137             40             35      168  43.1   \n",
       "\n",
       "   DiabetesPedigreeFunction  Age  Outcome  \n",
       "0                     0.627   50        1  \n",
       "1                     0.351   31        0  \n",
       "2                     0.672   32        1  \n",
       "3                     0.167   21        0  \n",
       "4                     2.288   33        1  "
      ]
     },
     "execution_count": 46,
     "metadata": {},
     "output_type": "execute_result"
    }
   ],
   "source": [
    "data.head(5)"
   ]
  },
  {
   "cell_type": "code",
   "execution_count": 47,
   "id": "concerned-faith",
   "metadata": {},
   "outputs": [],
   "source": [
    "# Pre-processing block"
   ]
  },
  {
   "cell_type": "code",
   "execution_count": 48,
   "id": "communist-expert",
   "metadata": {},
   "outputs": [],
   "source": [
    "#Train, test and validation spilt\n",
    "from sklearn.model_selection import train_test_split\n",
    "\n",
    "data_set_values=np.array(data)\n",
    "number_of_rows,number_of_cols=data.shape\n",
    "train, test = train_test_split(data_set_values, test_size = 0.4,random_state=57)\n",
    "test, validate = train_test_split(test, test_size = 0.5,random_state=3)"
   ]
  },
  {
   "cell_type": "code",
   "execution_count": 49,
   "id": "metallic-poison",
   "metadata": {},
   "outputs": [],
   "source": [
    "#Spilt all sets into input and output sets\n",
    "train_x=train[:,:number_of_cols-1]\n",
    "train_y=train[:,[number_of_cols-1]]\n",
    "\n",
    "test_x=test[:,:number_of_cols-1]\n",
    "test_y=test[:,[number_of_cols-1]]\n",
    "\n",
    "validate_x=validate[:,:number_of_cols-1]\n",
    "validate_y=validate[:,[number_of_cols-1]]\n",
    "\n",
    "#perform normalization on the input data set\n",
    "input_data= np.vstack((train_x,test_x,validate_x))\n",
    "mean_data = np.mean(input_data, axis=0)\n",
    "std_data = np.std(input_data, axis=0)\n",
    "train_x = (train_x - mean_data)/std_data\n",
    "test_x = (test_x - mean_data)/std_data\n",
    "validate_x = (validate_x - mean_data)/std_data"
   ]
  },
  {
   "cell_type": "code",
   "execution_count": 50,
   "id": "macro-assets",
   "metadata": {},
   "outputs": [],
   "source": [
    "#End of Pre-processing block"
   ]
  },
  {
   "cell_type": "code",
   "execution_count": 51,
   "id": "entitled-concert",
   "metadata": {},
   "outputs": [],
   "source": [
    "#Start of Logistic Regression - Part 1"
   ]
  },
  {
   "cell_type": "code",
   "execution_count": 52,
   "id": "prescription-namibia",
   "metadata": {},
   "outputs": [],
   "source": [
    "#Logistic Regression - Model Definition\n",
    "class logisticRegression:\n",
    "    def __init__(self,total_iterations,learning_rate):\n",
    "        self.learning_rate=learning_rate\n",
    "        self.total_iterations=total_iterations\n",
    "        self.bias=0\n",
    "        \n",
    "    #Activation function\n",
    "    def sigmoidFunction(self,X): \n",
    "        return 1/(1+np.exp(-X))\n",
    "#         return 1/(1+scipy.special.expit(-X))\n",
    "    def relu(self,Y):\n",
    "        return (np.maximum(0,Y))\n",
    "    \n",
    "    #Training function\n",
    "    def train(self,input,Y): \n",
    "\n",
    "        rows,cols=input.shape\n",
    "        self.m=rows\n",
    "        self.w=np.zeros((cols,1))\n",
    "        costList=[]\n",
    "        iterationList=[]\n",
    "        for _ in range(self.total_iterations+1):\n",
    "            # y= x * w + b\n",
    "            output=np.dot(input,self.w)+self.bias\n",
    "            \n",
    "            #apply Activating function\n",
    "            Z=self.relu(output)\n",
    "            \n",
    "            #calculating cost\n",
    "            cost=(-1/self.m)*np.sum((Y*np.log(Z))+(1-Y)*np.log(1-Z))\n",
    "            \n",
    "            if _%1000==0:\n",
    "#                 print(\"loss during \",_,\" iteration =\",cost)\n",
    "                iterationList.append(_)\n",
    "                costList.append(cost)\n",
    "            \n",
    "            #Gradient Descent\n",
    "            dw=(1/self.m)*np.dot(input.T,np.subtract(Z,Y))\n",
    "            db=(1/self.m)*np.sum(np.subtract(Z,Y))\n",
    "            \n",
    "            #updating weights and bais (Learning Part)\n",
    "            self.w = self.w-self.learning_rate*dw\n",
    "            self.bias = self.bias - self.learning_rate*db\n",
    "        print(cost)\n",
    "        plt.plot(iterationList, costList)\n",
    "        plt.title(\"Cost Relation\")\n",
    "        plt.xlabel(\"Iterations\")\n",
    "        plt.ylabel(\"Cost\")\n",
    "        plt.show()\n",
    "        return \n",
    "\n",
    "    #Prediction function\n",
    "    def predict(self,input):\n",
    "        output=np.dot(input,self.w)+self.bias\n",
    "        Z=self.sigmoidFunction(output)\n",
    "        # if output more than 0.5 then yes else no. (Binary Classification)\n",
    "        prediction=[]\n",
    "        for i in Z:\n",
    "            if i>=0.5:\n",
    "                prediction.append(1)\n",
    "            else:\n",
    "                prediction.append(0)\n",
    "        return prediction"
   ]
  },
  {
   "cell_type": "code",
   "execution_count": 53,
   "id": "postal-spider",
   "metadata": {},
   "outputs": [],
   "source": [
    "model=logisticRegression(total_iterations=10000,learning_rate=0.001)"
   ]
  },
  {
   "cell_type": "code",
   "execution_count": 54,
   "id": "introductory-showcase",
   "metadata": {},
   "outputs": [
    {
     "name": "stderr",
     "output_type": "stream",
     "text": [
      "/var/folders/bx/1_m4xfh535j3lyq9x8njj6140000gn/T/ipykernel_47431/546982959.py:31: RuntimeWarning: divide by zero encountered in log\n",
      "  cost=(-1/self.m)*np.sum((Y*np.log(Z))+(1-Y)*np.log(1-Z))\n",
      "/var/folders/bx/1_m4xfh535j3lyq9x8njj6140000gn/T/ipykernel_47431/546982959.py:31: RuntimeWarning: invalid value encountered in multiply\n",
      "  cost=(-1/self.m)*np.sum((Y*np.log(Z))+(1-Y)*np.log(1-Z))\n",
      "/var/folders/bx/1_m4xfh535j3lyq9x8njj6140000gn/T/ipykernel_47431/546982959.py:31: RuntimeWarning: invalid value encountered in log\n",
      "  cost=(-1/self.m)*np.sum((Y*np.log(Z))+(1-Y)*np.log(1-Z))\n"
     ]
    },
    {
     "name": "stdout",
     "output_type": "stream",
     "text": [
      "nan\n"
     ]
    },
    {
     "data": {
      "image/png": "[encoded data removed]",
      "text/plain": [
       "<Figure size 432x288 with 1 Axes>"
      ]
     },
     "metadata": {
      "needs_background": "light"
     },
     "output_type": "display_data"
    }
   ],
   "source": [
    "model.train(train_x,train_y)"
   ]
  },
  {
   "cell_type": "code",
   "execution_count": 34,
   "id": "accepting-canal",
   "metadata": {},
   "outputs": [],
   "source": [
    "from sklearn.metrics import accuracy_score\n",
    "test_prediction = model.predict(test_x)"
   ]
  },
  {
   "cell_type": "code",
   "execution_count": 35,
   "id": "immediate-republican",
   "metadata": {},
   "outputs": [
    {
     "name": "stdout",
     "output_type": "stream",
     "text": [
      "Accuracy =  0.45454545454545453\n"
     ]
    }
   ],
   "source": [
    "print(\"Accuracy = \", accuracy_score(test_y,test_prediction))"
   ]
  },
  {
   "cell_type": "code",
   "execution_count": 36,
   "id": "17f841b4",
   "metadata": {},
   "outputs": [],
   "source": [
    "\n",
    "def perf_measure(self,y_actual, y_hat):\n",
    "    TP = 0\n",
    "    FP = 0\n",
    "    TN = 0\n",
    "    FN = 0\n",
    "\n",
    "    for i in range(len(y_hat)): \n",
    "        if y_actual[i]==y_hat[i]==1:\n",
    "            TP += 1\n",
    "        if y_hat[i]==1 and y_actual[i]!=y_hat[i]:\n",
    "            FP += 1\n",
    "        if y_actual[i]==y_hat[i]==0:\n",
    "            TN += 1\n",
    "        if y_hat[i]==0 and y_actual[i]!=y_hat[i]:\n",
    "            FN += 1\n",
    "\n",
    "    return(TP, FP, TN, FN)\n",
    "\n",
    "# Precision Score = TP / (FP + TP)\n",
    "def PrecisionScore(TP, FP):\n",
    "    prescision = TP / (FP + TP)\n",
    "    print(f'Presision:{prescision}')\n",
    "    return prescision\n",
    "# Recall Score = TP / (FN + TP)\n",
    "def RecallScore(TP,FN):\n",
    "    recall = TP / (FN + TP)\n",
    "    print(recall)\n",
    "    return recall\n",
    "# Accuracy Score = (TP + TN)/ (TP + FN + TN + FP)\n",
    "def Accuracy(TP,TN,FN,FP):\n",
    "    accuracy = (TP + TN)/ (TP + FN + TN + FP)\n",
    "    print(f'Accuracy: {accuracy} %')\n",
    "# F1 Score = 2* Precision_Score * Recall_Score/ (Precision_Score + Recall_Score/)\n",
    "def F1Score(y_actual):\n",
    "\n",
    "    pr = PrecisionScore()\n",
    "    \n",
    "\n",
    "\n",
    "\n",
    "\n",
    "\n",
    "\n",
    "\n",
    "\n"
   ]
  },
  {
   "cell_type": "code",
   "execution_count": 55,
   "id": "988a9264",
   "metadata": {},
   "outputs": [
    {
     "ename": "AttributeError",
     "evalue": "type object 'Metrics' has no attribute 'TP'",
     "output_type": "error",
     "traceback": [
      "\u001b[0;31m---------------------------------------------------------------------------\u001b[0m",
      "\u001b[0;31mAttributeError\u001b[0m                            Traceback (most recent call last)",
      "\u001b[1;32m/Users/mohan/Downloads/Diabetes-Prediction-using-Machine-Learning-main/Assignment 2.ipynb Cell 16\u001b[0m in \u001b[0;36m<cell line: 2>\u001b[0;34m()\u001b[0m\n\u001b[1;32m      <a href='vscode-notebook-cell:/Users/mohan/Downloads/Diabetes-Prediction-using-Machine-Learning-main/Assignment%202.ipynb#X21sZmlsZQ%3D%3D?line=0'>1</a>\u001b[0m metrics \u001b[39m=\u001b[39m Metrics\n\u001b[0;32m----> <a href='vscode-notebook-cell:/Users/mohan/Downloads/Diabetes-Prediction-using-Machine-Learning-main/Assignment%202.ipynb#X21sZmlsZQ%3D%3D?line=1'>2</a>\u001b[0m \u001b[39mprint\u001b[39m(metrics\u001b[39m.\u001b[39;49mTP)\n",
      "\u001b[0;31mAttributeError\u001b[0m: type object 'Metrics' has no attribute 'TP'"
     ]
    }
   ],
   "source": [
    "# metrics = Metrics\n",
    "# print(metrics.TP)"
   ]
  },
  {
   "cell_type": "code",
   "execution_count": null,
   "id": "25646796",
   "metadata": {},
   "outputs": [
    {
     "name": "stdout",
     "output_type": "stream",
     "text": [
      "(39, 13, 86, 16)\n"
     ]
    }
   ],
   "source": []
  },
  {
   "cell_type": "code",
   "execution_count": null,
   "id": "8464a81a",
   "metadata": {},
   "outputs": [],
   "source": []
  }
 ],
 "metadata": {
  "kernelspec": {
   "display_name": "Python 3.9.12 ('base')",
   "language": "python",
   "name": "python3"
  },
  "language_info": {
   "codemirror_mode": {
    "name": "ipython",
    "version": 3
   },
   "file_extension": ".py",
   "mimetype": "text/x-python",
   "name": "python",
   "nbconvert_exporter": "python",
   "pygments_lexer": "ipython3",
   "version": "3.9.12"
  },
  "vscode": {
   "interpreter": {
    "hash": "ddcff88f20c5f9bf7718f446bdd3a77192143b2f59e73a09311788c03dde77eb"
   }
  }
 },
 "nbformat": 4,
 "nbformat_minor": 5
}
