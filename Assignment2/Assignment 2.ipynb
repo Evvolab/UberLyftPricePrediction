{
 "cells": [
  {
   "attachments": {},
   "cell_type": "markdown",
   "id": "69b125e3",
   "metadata": {},
   "source": [
    "## Logistic Regression with Single Neuron Neural Network\n"
   ]
  },
  {
   "attachments": {},
   "cell_type": "markdown",
   "id": "f0a5490e",
   "metadata": {},
   "source": [
    "### 1. Goals\n",
    "\n",
    "1. Implement a single neuron neural network, aka, the logistic regression unit. \n",
    "2. Use Log Loss Function, write code to carry out stochastic gradient descent for optimization, and use sigmoid compression.\n",
    "3. Run it on any classification problem using a dataset from the internet (say the titanic dataset).\n",
    "4. Provide accuracy and F1 score of the results. "
   ]
  },
  {
   "cell_type": "markdown",
   "id": "057f5770",
   "metadata": {},
   "source": [
    "#### 2. Imports"
   ]
  },
  {
   "cell_type": "code",
   "execution_count": null,
   "id": "spoken-hybrid",
   "metadata": {},
   "outputs": [
    {
     "ename": "",
     "evalue": "",
     "output_type": "error",
     "traceback": [
      "\u001b[1;31mFailed to start the Kernel. \n",
      "\u001b[1;31mJupyter server crashed. Unable to connect. \n",
      "\u001b[1;31mError code from Jupyter: 2\n",
      "\u001b[1;31m/Users/mohan/opt/anaconda3/lib/python3.9/site-packages/traitlets/traitlets.py:2202: FutureWarning: Supporting extra quotes around strings is deprecated in traitlets 5.0. You can use '/Users/mohan/Desktop/INFO7390/Assignment2' instead of '\"/Users/mohan/Desktop/INFO7390/Assignment2\"' if you require traitlets >=5.\n",
      "\u001b[1;31m  warn(. \n",
      "\u001b[1;31mView Jupyter <a href='command:jupyter.viewOutput'>log</a> for further details."
     ]
    }
   ],
   "source": [
    "import pandas as pd\n",
    "import numpy as np\n",
    "import matplotlib.pyplot as plt\n",
    "import scipy\n",
    "import seaborn as sns"
   ]
  },
  {
   "cell_type": "markdown",
   "id": "a8cbfcbe",
   "metadata": {},
   "source": [
    "#### 3. Data Ingestion\n",
    "\n",
    "Dataset used on this project is originally from the National Institute of Diabetes and Digestive and Kidney Diseases. The objective is to predict based on diagnostic measurements whether a patient has diabetes.\n",
    "https://www.kaggle.com/datasets/mathchi/diabetes-data-set "
   ]
  },
  {
   "cell_type": "code",
   "execution_count": null,
   "id": "dangerous-remedy",
   "metadata": {},
   "outputs": [
    {
     "ename": "",
     "evalue": "",
     "output_type": "error",
     "traceback": [
      "\u001b[1;31mFailed to start the Kernel. \n",
      "\u001b[1;31mJupyter server crashed. Unable to connect. \n",
      "\u001b[1;31mError code from Jupyter: 2\n",
      "\u001b[1;31m/Users/mohan/opt/anaconda3/lib/python3.9/site-packages/traitlets/traitlets.py:2202: FutureWarning: Supporting extra quotes around strings is deprecated in traitlets 5.0. You can use '/Users/mohan/Desktop/INFO7390/Assignment2' instead of '\"/Users/mohan/Desktop/INFO7390/Assignment2\"' if you require traitlets >=5.\n",
      "\u001b[1;31m  warn(. \n",
      "\u001b[1;31mView Jupyter <a href='command:jupyter.viewOutput'>log</a> for further details."
     ]
    }
   ],
   "source": [
    "#Import dataset\n",
    "data= pd.read_csv('../diabetes.csv')"
   ]
  },
  {
   "cell_type": "code",
   "execution_count": null,
   "id": "shared-harvest",
   "metadata": {},
   "outputs": [
    {
     "ename": "",
     "evalue": "",
     "output_type": "error",
     "traceback": [
      "\u001b[1;31mFailed to start the Kernel. \n",
      "\u001b[1;31mJupyter server crashed. Unable to connect. \n",
      "\u001b[1;31mError code from Jupyter: 2\n",
      "\u001b[1;31m/Users/mohan/opt/anaconda3/lib/python3.9/site-packages/traitlets/traitlets.py:2202: FutureWarning: Supporting extra quotes around strings is deprecated in traitlets 5.0. You can use '/Users/mohan/Desktop/INFO7390/Assignment2' instead of '\"/Users/mohan/Desktop/INFO7390/Assignment2\"' if you require traitlets >=5.\n",
      "\u001b[1;31m  warn(. \n",
      "\u001b[1;31mView Jupyter <a href='command:jupyter.viewOutput'>log</a> for further details."
     ]
    }
   ],
   "source": [
    "data.head(5)"
   ]
  },
  {
   "cell_type": "markdown",
   "id": "c962eea8",
   "metadata": {},
   "source": [
    "#### 4. Exploratory Data Analysis"
   ]
  },
  {
   "cell_type": "code",
   "execution_count": null,
   "id": "dc2e0205",
   "metadata": {},
   "outputs": [
    {
     "ename": "",
     "evalue": "",
     "output_type": "error",
     "traceback": [
      "\u001b[1;31mFailed to start the Kernel. \n",
      "\u001b[1;31mJupyter server crashed. Unable to connect. \n",
      "\u001b[1;31mError code from Jupyter: 2\n",
      "\u001b[1;31m/Users/mohan/opt/anaconda3/lib/python3.9/site-packages/traitlets/traitlets.py:2202: FutureWarning: Supporting extra quotes around strings is deprecated in traitlets 5.0. You can use '/Users/mohan/Desktop/INFO7390/Assignment2' instead of '\"/Users/mohan/Desktop/INFO7390/Assignment2\"' if you require traitlets >=5.\n",
      "\u001b[1;31m  warn(. \n",
      "\u001b[1;31mView Jupyter <a href='command:jupyter.viewOutput'>log</a> for further details."
     ]
    }
   ],
   "source": [
    "# displot \n",
    "features_listed = ['Glucose', 'BMI', 'DiabetesPedigreeFunction']\n",
    "plt.figure(figsize = [20, 15])\n",
    "counter = 0\n",
    "for i in features_listed:\n",
    "    counter += 1\n",
    "    print(counter, ':', i)\n",
    "    sns.displot(data = data, kde=True, x = data[str(i)], hue='Outcome')\n",
    "plt.plot()\n",
    "plt.show"
   ]
  },
  {
   "cell_type": "code",
   "execution_count": null,
   "id": "7e6bc8bc",
   "metadata": {},
   "outputs": [
    {
     "ename": "",
     "evalue": "",
     "output_type": "error",
     "traceback": [
      "\u001b[1;31mFailed to start the Kernel. \n",
      "\u001b[1;31mJupyter server crashed. Unable to connect. \n",
      "\u001b[1;31mError code from Jupyter: 2\n",
      "\u001b[1;31m/Users/mohan/opt/anaconda3/lib/python3.9/site-packages/traitlets/traitlets.py:2202: FutureWarning: Supporting extra quotes around strings is deprecated in traitlets 5.0. You can use '/Users/mohan/Desktop/INFO7390/Assignment2' instead of '\"/Users/mohan/Desktop/INFO7390/Assignment2\"' if you require traitlets >=5.\n",
      "\u001b[1;31m  warn(. \n",
      "\u001b[1;31mView Jupyter <a href='command:jupyter.viewOutput'>log</a> for further details."
     ]
    }
   ],
   "source": [
    "# custom function for data vizualization\n",
    "def look_at_distr_hist(*args, df_num=None, df_cat=None, class_feature=\"Outcome\"):\n",
    "    if df_num is not None:\n",
    "        plt.figure(figsize = [20, 15])\n",
    "        counter = 0\n",
    "        for i in df_num.columns:\n",
    "            counter += 1\n",
    "            plt.subplot(3, 3, counter)\n",
    "            sns.histplot(data = data, x = data[str(i)], hue = data[class_feature], multiple  = 'dodge')\n",
    "        plt.plot()\n",
    "\n",
    "    #look at the distribution for all categ variables\n",
    "    if df_cat is not None:\n",
    "        plt.figure(figsize = [20, 15])\n",
    "        counter = 0\n",
    "        for i in df_cat.columns:\n",
    "            counter += 1\n",
    "            plt.subplot(3, 3, counter)\n",
    "            sns.histplot(data = data, x = data[str(i)], hue = data[class_feature], multiple  = 'dodge')\n",
    "    plt.plot();"
   ]
  },
  {
   "cell_type": "code",
   "execution_count": null,
   "id": "2469281a",
   "metadata": {},
   "outputs": [
    {
     "ename": "",
     "evalue": "",
     "output_type": "error",
     "traceback": [
      "\u001b[1;31mFailed to start the Kernel. \n",
      "\u001b[1;31mJupyter server crashed. Unable to connect. \n",
      "\u001b[1;31mError code from Jupyter: 2\n",
      "\u001b[1;31m/Users/mohan/opt/anaconda3/lib/python3.9/site-packages/traitlets/traitlets.py:2202: FutureWarning: Supporting extra quotes around strings is deprecated in traitlets 5.0. You can use '/Users/mohan/Desktop/INFO7390/Assignment2' instead of '\"/Users/mohan/Desktop/INFO7390/Assignment2\"' if you require traitlets >=5.\n",
      "\u001b[1;31m  warn(. \n",
      "\u001b[1;31mView Jupyter <a href='command:jupyter.viewOutput'>log</a> for further details."
     ]
    }
   ],
   "source": [
    "look_at_distr_hist(df_num=data, class_feature=\"Outcome\")"
   ]
  },
  {
   "cell_type": "markdown",
   "id": "dbbb09c9",
   "metadata": {},
   "source": [
    "#### 5. Data Preprocessing"
   ]
  },
  {
   "cell_type": "code",
   "execution_count": null,
   "id": "communist-expert",
   "metadata": {},
   "outputs": [
    {
     "ename": "",
     "evalue": "",
     "output_type": "error",
     "traceback": [
      "\u001b[1;31mFailed to start the Kernel. \n",
      "\u001b[1;31mJupyter server crashed. Unable to connect. \n",
      "\u001b[1;31mError code from Jupyter: 2\n",
      "\u001b[1;31m/Users/mohan/opt/anaconda3/lib/python3.9/site-packages/traitlets/traitlets.py:2202: FutureWarning: Supporting extra quotes around strings is deprecated in traitlets 5.0. You can use '/Users/mohan/Desktop/INFO7390/Assignment2' instead of '\"/Users/mohan/Desktop/INFO7390/Assignment2\"' if you require traitlets >=5.\n",
      "\u001b[1;31m  warn(. \n",
      "\u001b[1;31mView Jupyter <a href='command:jupyter.viewOutput'>log</a> for further details."
     ]
    }
   ],
   "source": [
    "#Train, test and validation spilt\n",
    "from sklearn.model_selection import train_test_split\n",
    "\n",
    "data_set_values=np.array(data)\n",
    "number_of_rows,number_of_cols=data.shape\n",
    "train, test = train_test_split(data_set_values, test_size = 0.4,random_state=57)\n",
    "test, validate = train_test_split(test, test_size = 0.5,random_state=3)"
   ]
  },
  {
   "cell_type": "code",
   "execution_count": null,
   "id": "metallic-poison",
   "metadata": {},
   "outputs": [
    {
     "ename": "",
     "evalue": "",
     "output_type": "error",
     "traceback": [
      "\u001b[1;31mFailed to start the Kernel. \n",
      "\u001b[1;31mJupyter server crashed. Unable to connect. \n",
      "\u001b[1;31mError code from Jupyter: 2\n",
      "\u001b[1;31m/Users/mohan/opt/anaconda3/lib/python3.9/site-packages/traitlets/traitlets.py:2202: FutureWarning: Supporting extra quotes around strings is deprecated in traitlets 5.0. You can use '/Users/mohan/Desktop/INFO7390/Assignment2' instead of '\"/Users/mohan/Desktop/INFO7390/Assignment2\"' if you require traitlets >=5.\n",
      "\u001b[1;31m  warn(. \n",
      "\u001b[1;31mView Jupyter <a href='command:jupyter.viewOutput'>log</a> for further details."
     ]
    }
   ],
   "source": [
    "#Spilt all sets into input and output sets\n",
    "train_x=train[:,:number_of_cols-1]\n",
    "train_y=train[:,[number_of_cols-1]]\n",
    "\n",
    "test_x=test[:,:number_of_cols-1]\n",
    "test_y=test[:,[number_of_cols-1]]\n",
    "\n",
    "validate_x=validate[:,:number_of_cols-1]\n",
    "validate_y=validate[:,[number_of_cols-1]]\n",
    "\n",
    "#perform normalization on the input data set\n",
    "input_data= np.vstack((train_x,test_x,validate_x))\n",
    "mean_data = np.mean(input_data, axis=0)\n",
    "std_data = np.std(input_data, axis=0)\n",
    "train_x = (train_x - mean_data)/std_data\n",
    "test_x = (test_x - mean_data)/std_data\n",
    "validate_x = (validate_x - mean_data)/std_data"
   ]
  },
  {
   "cell_type": "markdown",
   "id": "f97c7f13",
   "metadata": {},
   "source": [
    "#### 6. Functions"
   ]
  },
  {
   "cell_type": "markdown",
   "id": "e4e39a4d",
   "metadata": {},
   "source": [
    "##### 6.1 Activation Functions"
   ]
  },
  {
   "cell_type": "code",
   "execution_count": null,
   "id": "b00db20b",
   "metadata": {},
   "outputs": [
    {
     "ename": "",
     "evalue": "",
     "output_type": "error",
     "traceback": [
      "\u001b[1;31mFailed to start the Kernel. \n",
      "\u001b[1;31mJupyter server crashed. Unable to connect. \n",
      "\u001b[1;31mError code from Jupyter: 2\n",
      "\u001b[1;31m/Users/mohan/opt/anaconda3/lib/python3.9/site-packages/traitlets/traitlets.py:2202: FutureWarning: Supporting extra quotes around strings is deprecated in traitlets 5.0. You can use '/Users/mohan/Desktop/INFO7390/Assignment2' instead of '\"/Users/mohan/Desktop/INFO7390/Assignment2\"' if you require traitlets >=5.\n",
      "\u001b[1;31m  warn(. \n",
      "\u001b[1;31mView Jupyter <a href='command:jupyter.viewOutput'>log</a> for further details."
     ]
    }
   ],
   "source": [
    "def sigmoidFunction(X): \n",
    "    return 1/(1+np.exp(-X))\n",
    "\n",
    "def tanh(x):\n",
    "    t = (np.exp(x)-np.exp(-x))/(np.exp(x)+np.exp(-x))\n",
    "    return 1-t**2\n"
   ]
  },
  {
   "cell_type": "markdown",
   "id": "acd90265",
   "metadata": {},
   "source": [
    "##### 6.2 Log Loss or Cross Entropy"
   ]
  },
  {
   "cell_type": "code",
   "execution_count": null,
   "id": "90e2cd29",
   "metadata": {},
   "outputs": [
    {
     "ename": "",
     "evalue": "",
     "output_type": "error",
     "traceback": [
      "\u001b[1;31mFailed to start the Kernel. \n",
      "\u001b[1;31mJupyter server crashed. Unable to connect. \n",
      "\u001b[1;31mError code from Jupyter: 2\n",
      "\u001b[1;31m/Users/mohan/opt/anaconda3/lib/python3.9/site-packages/traitlets/traitlets.py:2202: FutureWarning: Supporting extra quotes around strings is deprecated in traitlets 5.0. You can use '/Users/mohan/Desktop/INFO7390/Assignment2' instead of '\"/Users/mohan/Desktop/INFO7390/Assignment2\"' if you require traitlets >=5.\n",
      "\u001b[1;31m  warn(. \n",
      "\u001b[1;31mView Jupyter <a href='command:jupyter.viewOutput'>log</a> for further details."
     ]
    }
   ],
   "source": [
    "def logLoss(m,Y,Z):\n",
    "    return (-1/m)*np.sum((Y*np.log(Z))+(1-Y)*np.log(1-Z))\n",
    "\n",
    "    # (-1/self.m)*np.sum((Y*np.log(Z))+(1-Y)*np.log(1-Z))"
   ]
  },
  {
   "cell_type": "markdown",
   "id": "cb7d2a5b",
   "metadata": {},
   "source": [
    "##### 6.3 Metrics"
   ]
  },
  {
   "cell_type": "code",
   "execution_count": null,
   "id": "c37c27b8",
   "metadata": {},
   "outputs": [
    {
     "ename": "",
     "evalue": "",
     "output_type": "error",
     "traceback": [
      "\u001b[1;31mFailed to start the Kernel. \n",
      "\u001b[1;31mJupyter server crashed. Unable to connect. \n",
      "\u001b[1;31mError code from Jupyter: 2\n",
      "\u001b[1;31m/Users/mohan/opt/anaconda3/lib/python3.9/site-packages/traitlets/traitlets.py:2202: FutureWarning: Supporting extra quotes around strings is deprecated in traitlets 5.0. You can use '/Users/mohan/Desktop/INFO7390/Assignment2' instead of '\"/Users/mohan/Desktop/INFO7390/Assignment2\"' if you require traitlets >=5.\n",
      "\u001b[1;31m  warn(. \n",
      "\u001b[1;31mView Jupyter <a href='command:jupyter.viewOutput'>log</a> for further details."
     ]
    }
   ],
   "source": [
    "def Metrics(y_actual,y_hat):\n",
    "    TP = 0 #True Positives\n",
    "    FP = 0 # False Positives\n",
    "    TN = 0 # True Negatives\n",
    "    FN = 0 # False Negatives\n",
    "\n",
    "    for i in range(len(y_hat)): \n",
    "        if y_actual[i]==y_hat[i]==1:\n",
    "            TP += 1\n",
    "        if y_hat[i]==1 and y_actual[i]!=y_hat[i]:\n",
    "            FP += 1\n",
    "        if y_actual[i]==y_hat[i]==0:\n",
    "            TN += 1\n",
    "        if y_hat[i]==0 and y_actual[i]!=y_hat[i]:\n",
    "            FN += 1\n",
    "    #Precision Score\n",
    "    precision = TP / (FP + TP)\n",
    "    #Recall Score\n",
    "    recall = TP / (FN + TP)\n",
    "    #Accuracy\n",
    "    accuracy = ((TP + TN)/ (TP + FN + TN + FP)) * 100\n",
    "    #F1 Score\n",
    "    F1_Score = 2* precision * recall/ (precision + recall)\n",
    "    print(f'Accuracy: {round(accuracy,2)}%')\n",
    "    print(f'Precision:{round(precision,2)}')\n",
    "    print(f'Recall Score:{round(recall,2)}')\n",
    "    print(f'F1 Score:{round(F1_Score,2)}')"
   ]
  },
  {
   "cell_type": "markdown",
   "id": "673d7217",
   "metadata": {},
   "source": [
    "### 7. Single Neuron Logistic Regression Function with Stochatic Gradient Descent Applied Using Sigmoid Activation Function"
   ]
  },
  {
   "cell_type": "code",
   "execution_count": null,
   "id": "prescription-namibia",
   "metadata": {},
   "outputs": [
    {
     "ename": "",
     "evalue": "",
     "output_type": "error",
     "traceback": [
      "\u001b[1;31mFailed to start the Kernel. \n",
      "\u001b[1;31mJupyter server crashed. Unable to connect. \n",
      "\u001b[1;31mError code from Jupyter: 2\n",
      "\u001b[1;31m/Users/mohan/opt/anaconda3/lib/python3.9/site-packages/traitlets/traitlets.py:2202: FutureWarning: Supporting extra quotes around strings is deprecated in traitlets 5.0. You can use '/Users/mohan/Desktop/INFO7390/Assignment2' instead of '\"/Users/mohan/Desktop/INFO7390/Assignment2\"' if you require traitlets >=5.\n",
      "\u001b[1;31m  warn(. \n",
      "\u001b[1;31mView Jupyter <a href='command:jupyter.viewOutput'>log</a> for further details."
     ]
    }
   ],
   "source": [
    "#Logistic Regression - Model Definition\n",
    "class logisticRegression:\n",
    "    def __init__(self,total_iterations,learning_rate):\n",
    "        self.learning_rate=learning_rate\n",
    "        self.total_iterations=total_iterations\n",
    "        self.bias=0.001\n",
    "\n",
    "\n",
    "    def train(self,input,Y): \n",
    "\n",
    "        rows,cols=input.shape\n",
    "        self.m=rows\n",
    "        self.w=np.zeros((cols,1))\n",
    "        costList=[]\n",
    "        iterationList=[]\n",
    "        for i in range(self.total_iterations+1):\n",
    "            # y= x * w + b\n",
    "            output=np.dot(input,self.w)+self.bias\n",
    "            \n",
    "            #Apply Sigmoid Activation function\n",
    "            Z = sigmoidFunction(output)\n",
    "\n",
    "            #calculating cost with Log Loss Method/CrossEntropy\n",
    "            cost = logLoss(self.m,Y,Z)\n",
    "            \n",
    "            if i%1000==0:\n",
    "                iterationList.append(i)\n",
    "                costList.append(cost)\n",
    "            \n",
    "            #Gradient Descent\n",
    "            dw=(1/self.m)*np.dot(input.T,np.subtract(Z,Y))\n",
    "            db=(1/self.m)*np.sum(np.subtract(Z,Y))\n",
    "            \n",
    "            #updating weights and bais (Learning Part)\n",
    "            self.w = self.w-self.learning_rate*dw\n",
    "            self.bias = self.bias - self.learning_rate*db\n",
    "        print(cost)\n",
    "        plt.plot(iterationList, costList)\n",
    "        plt.title(\"Cost Relation\")\n",
    "        plt.xlabel(\"Iterations\")\n",
    "        plt.ylabel(\"Cost\")\n",
    "        plt.show()\n",
    "        return \n",
    "\n",
    "    #Prediction function\n",
    "    def predict(self,input):\n",
    "        output=np.dot(input,self.w)+self.bias\n",
    "        Z=sigmoidFunction(output)\n",
    "        # if output more than 0.5 then yes else no. (Binary Classification)\n",
    "        prediction=[]\n",
    "        for i in Z:\n",
    "            if i>=0.5:\n",
    "                prediction.append(1)\n",
    "            else:\n",
    "                prediction.append(0)\n",
    "        return prediction\n"
   ]
  },
  {
   "cell_type": "markdown",
   "id": "b9922c07",
   "metadata": {},
   "source": [
    "##### 7.1. Fitting and Training the Model with Data"
   ]
  },
  {
   "cell_type": "code",
   "execution_count": null,
   "id": "postal-spider",
   "metadata": {},
   "outputs": [
    {
     "ename": "",
     "evalue": "",
     "output_type": "error",
     "traceback": [
      "\u001b[1;31mFailed to start the Kernel. \n",
      "\u001b[1;31mJupyter server crashed. Unable to connect. \n",
      "\u001b[1;31mError code from Jupyter: 2\n",
      "\u001b[1;31m/Users/mohan/opt/anaconda3/lib/python3.9/site-packages/traitlets/traitlets.py:2202: FutureWarning: Supporting extra quotes around strings is deprecated in traitlets 5.0. You can use '/Users/mohan/Desktop/INFO7390/Assignment2' instead of '\"/Users/mohan/Desktop/INFO7390/Assignment2\"' if you require traitlets >=5.\n",
      "\u001b[1;31m  warn(. \n",
      "\u001b[1;31mView Jupyter <a href='command:jupyter.viewOutput'>log</a> for further details."
     ]
    }
   ],
   "source": [
    "model_wtSigmoid=logisticRegression(total_iterations=10000,learning_rate=0.001)"
   ]
  },
  {
   "cell_type": "code",
   "execution_count": null,
   "id": "introductory-showcase",
   "metadata": {},
   "outputs": [
    {
     "ename": "",
     "evalue": "",
     "output_type": "error",
     "traceback": [
      "\u001b[1;31mFailed to start the Kernel. \n",
      "\u001b[1;31mJupyter server crashed. Unable to connect. \n",
      "\u001b[1;31mError code from Jupyter: 2\n",
      "\u001b[1;31m/Users/mohan/opt/anaconda3/lib/python3.9/site-packages/traitlets/traitlets.py:2202: FutureWarning: Supporting extra quotes around strings is deprecated in traitlets 5.0. You can use '/Users/mohan/Desktop/INFO7390/Assignment2' instead of '\"/Users/mohan/Desktop/INFO7390/Assignment2\"' if you require traitlets >=5.\n",
      "\u001b[1;31m  warn(. \n",
      "\u001b[1;31mView Jupyter <a href='command:jupyter.viewOutput'>log</a> for further details."
     ]
    }
   ],
   "source": [
    "model_wtSigmoid.train(train_x,train_y)"
   ]
  },
  {
   "cell_type": "markdown",
   "id": "b6596b3c",
   "metadata": {},
   "source": [
    "##### 7.2 Predicting from the trained model"
   ]
  },
  {
   "cell_type": "code",
   "execution_count": null,
   "id": "accepting-canal",
   "metadata": {},
   "outputs": [
    {
     "ename": "",
     "evalue": "",
     "output_type": "error",
     "traceback": [
      "\u001b[1;31mFailed to start the Kernel. \n",
      "\u001b[1;31mJupyter server crashed. Unable to connect. \n",
      "\u001b[1;31mError code from Jupyter: 2\n",
      "\u001b[1;31m/Users/mohan/opt/anaconda3/lib/python3.9/site-packages/traitlets/traitlets.py:2202: FutureWarning: Supporting extra quotes around strings is deprecated in traitlets 5.0. You can use '/Users/mohan/Desktop/INFO7390/Assignment2' instead of '\"/Users/mohan/Desktop/INFO7390/Assignment2\"' if you require traitlets >=5.\n",
      "\u001b[1;31m  warn(. \n",
      "\u001b[1;31mView Jupyter <a href='command:jupyter.viewOutput'>log</a> for further details."
     ]
    }
   ],
   "source": [
    "test_predictionSigmoid = model_wtSigmoid.predict(test_x)"
   ]
  },
  {
   "cell_type": "markdown",
   "id": "e44b512c",
   "metadata": {},
   "source": [
    "##### 7.3 Metrics"
   ]
  },
  {
   "cell_type": "code",
   "execution_count": null,
   "id": "d5a9b5d1",
   "metadata": {},
   "outputs": [
    {
     "ename": "",
     "evalue": "",
     "output_type": "error",
     "traceback": [
      "\u001b[1;31mFailed to start the Kernel. \n",
      "\u001b[1;31mJupyter server crashed. Unable to connect. \n",
      "\u001b[1;31mError code from Jupyter: 2\n",
      "\u001b[1;31m/Users/mohan/opt/anaconda3/lib/python3.9/site-packages/traitlets/traitlets.py:2202: FutureWarning: Supporting extra quotes around strings is deprecated in traitlets 5.0. You can use '/Users/mohan/Desktop/INFO7390/Assignment2' instead of '\"/Users/mohan/Desktop/INFO7390/Assignment2\"' if you require traitlets >=5.\n",
      "\u001b[1;31m  warn(. \n",
      "\u001b[1;31mView Jupyter <a href='command:jupyter.viewOutput'>log</a> for further details."
     ]
    }
   ],
   "source": [
    "Metrics(test_y,test_predictionSigmoid)"
   ]
  },
  {
   "cell_type": "markdown",
   "id": "a30f689c",
   "metadata": {},
   "source": [
    "### 8. Single Neuron Logistic Regression Function with Stochatic Gradient Descent Applied Using Tanh Activation Function"
   ]
  },
  {
   "cell_type": "code",
   "execution_count": null,
   "id": "b1cb3595",
   "metadata": {},
   "outputs": [
    {
     "ename": "",
     "evalue": "",
     "output_type": "error",
     "traceback": [
      "\u001b[1;31mFailed to start the Kernel. \n",
      "\u001b[1;31mJupyter server crashed. Unable to connect. \n",
      "\u001b[1;31mError code from Jupyter: 2\n",
      "\u001b[1;31m/Users/mohan/opt/anaconda3/lib/python3.9/site-packages/traitlets/traitlets.py:2202: FutureWarning: Supporting extra quotes around strings is deprecated in traitlets 5.0. You can use '/Users/mohan/Desktop/INFO7390/Assignment2' instead of '\"/Users/mohan/Desktop/INFO7390/Assignment2\"' if you require traitlets >=5.\n",
      "\u001b[1;31m  warn(. \n",
      "\u001b[1;31mView Jupyter <a href='command:jupyter.viewOutput'>log</a> for further details."
     ]
    }
   ],
   "source": [
    "#Logistic Regression - Model Definition\n",
    "class logisticRegression:\n",
    "    def __init__(self,total_iterations,learning_rate):\n",
    "        self.learning_rate=learning_rate\n",
    "        self.total_iterations=total_iterations\n",
    "        self.bias=0.001\n",
    "\n",
    "\n",
    "    def train(self,input,Y): \n",
    "\n",
    "        rows,cols=input.shape\n",
    "        self.m=rows\n",
    "        self.w=np.zeros((cols,1))\n",
    "        costList=[]\n",
    "        iterationList=[]\n",
    "        for i in range(self.total_iterations+1):\n",
    "            # y= x * w + b\n",
    "            output=np.dot(input,self.w)+self.bias\n",
    "            \n",
    "            #Apply tanh Activation function\n",
    "            Z = tanh(output)\n",
    "\n",
    "            #calculating cost with Log Loss Method/CrossEntropy\n",
    "            cost = logLoss(self.m,Y,Z)\n",
    "            \n",
    "            if i%1000==0:\n",
    "                iterationList.append(i)\n",
    "                costList.append(cost)\n",
    "            \n",
    "            #Gradient Descent\n",
    "            dw=(1/self.m)*np.dot(input.T,np.subtract(Z,Y))\n",
    "            db=(1/self.m)*np.sum(np.subtract(Z,Y))\n",
    "            \n",
    "            #updating weights and bais (Learning Part)\n",
    "            self.w = self.w-self.learning_rate*dw\n",
    "            self.bias = self.bias - self.learning_rate*db\n",
    "        print(cost)\n",
    "        plt.plot(iterationList, costList)\n",
    "        plt.title(\"Cost Relation\")\n",
    "        plt.xlabel(\"Iterations\")\n",
    "        plt.ylabel(\"Cost\")\n",
    "        plt.show()\n",
    "        return \n",
    "\n",
    "    #Prediction function\n",
    "    def predict(self,input):\n",
    "        output=np.dot(input,self.w)+self.bias\n",
    "        Z=tanh(output)\n",
    "        # if output more than 0.5 then yes else no. (Binary Classification)\n",
    "        prediction=[]\n",
    "        for i in Z:\n",
    "            if i>=0.5:\n",
    "                prediction.append(1)\n",
    "            else:\n",
    "                prediction.append(0)\n",
    "        return prediction"
   ]
  },
  {
   "cell_type": "markdown",
   "id": "b9922c07",
   "metadata": {},
   "source": [
    "##### 8.1. Fitting and Training the Model with Data"
   ]
  },
  {
   "cell_type": "code",
   "execution_count": null,
   "id": "postal-spider",
   "metadata": {},
   "outputs": [
    {
     "ename": "",
     "evalue": "",
     "output_type": "error",
     "traceback": [
      "\u001b[1;31mFailed to start the Kernel. \n",
      "\u001b[1;31mJupyter server crashed. Unable to connect. \n",
      "\u001b[1;31mError code from Jupyter: 2\n",
      "\u001b[1;31m/Users/mohan/opt/anaconda3/lib/python3.9/site-packages/traitlets/traitlets.py:2202: FutureWarning: Supporting extra quotes around strings is deprecated in traitlets 5.0. You can use '/Users/mohan/Desktop/INFO7390/Assignment2' instead of '\"/Users/mohan/Desktop/INFO7390/Assignment2\"' if you require traitlets >=5.\n",
      "\u001b[1;31m  warn(. \n",
      "\u001b[1;31mView Jupyter <a href='command:jupyter.viewOutput'>log</a> for further details."
     ]
    }
   ],
   "source": [
    "model_wtTanh=logisticRegression(total_iterations=10000,learning_rate=0.001)"
   ]
  },
  {
   "cell_type": "code",
   "execution_count": null,
   "id": "introductory-showcase",
   "metadata": {},
   "outputs": [
    {
     "ename": "",
     "evalue": "",
     "output_type": "error",
     "traceback": [
      "\u001b[1;31mFailed to start the Kernel. \n",
      "\u001b[1;31mJupyter server crashed. Unable to connect. \n",
      "\u001b[1;31mError code from Jupyter: 2\n",
      "\u001b[1;31m/Users/mohan/opt/anaconda3/lib/python3.9/site-packages/traitlets/traitlets.py:2202: FutureWarning: Supporting extra quotes around strings is deprecated in traitlets 5.0. You can use '/Users/mohan/Desktop/INFO7390/Assignment2' instead of '\"/Users/mohan/Desktop/INFO7390/Assignment2\"' if you require traitlets >=5.\n",
      "\u001b[1;31m  warn(. \n",
      "\u001b[1;31mView Jupyter <a href='command:jupyter.viewOutput'>log</a> for further details."
     ]
    }
   ],
   "source": [
    "model_wtTanh.train(train_x,train_y)"
   ]
  },
  {
   "cell_type": "markdown",
   "id": "b6596b3c",
   "metadata": {},
   "source": [
    "##### 8.2 Predicting from the trained model"
   ]
  },
  {
   "cell_type": "code",
   "execution_count": null,
   "id": "accepting-canal",
   "metadata": {},
   "outputs": [
    {
     "ename": "",
     "evalue": "",
     "output_type": "error",
     "traceback": [
      "\u001b[1;31mFailed to start the Kernel. \n",
      "\u001b[1;31mJupyter server crashed. Unable to connect. \n",
      "\u001b[1;31mError code from Jupyter: 2\n",
      "\u001b[1;31m/Users/mohan/opt/anaconda3/lib/python3.9/site-packages/traitlets/traitlets.py:2202: FutureWarning: Supporting extra quotes around strings is deprecated in traitlets 5.0. You can use '/Users/mohan/Desktop/INFO7390/Assignment2' instead of '\"/Users/mohan/Desktop/INFO7390/Assignment2\"' if you require traitlets >=5.\n",
      "\u001b[1;31m  warn(. \n",
      "\u001b[1;31mView Jupyter <a href='command:jupyter.viewOutput'>log</a> for further details."
     ]
    }
   ],
   "source": [
    "test_predictionTanh = model_wtTanh.predict(test_x)"
   ]
  },
  {
   "cell_type": "markdown",
   "id": "e44b512c",
   "metadata": {},
   "source": [
    "##### 8.3 Metrics"
   ]
  },
  {
   "cell_type": "code",
   "execution_count": null,
   "id": "d5a9b5d1",
   "metadata": {},
   "outputs": [
    {
     "ename": "",
     "evalue": "",
     "output_type": "error",
     "traceback": [
      "\u001b[1;31mFailed to start the Kernel. \n",
      "\u001b[1;31mJupyter server crashed. Unable to connect. \n",
      "\u001b[1;31mError code from Jupyter: 2\n",
      "\u001b[1;31m/Users/mohan/opt/anaconda3/lib/python3.9/site-packages/traitlets/traitlets.py:2202: FutureWarning: Supporting extra quotes around strings is deprecated in traitlets 5.0. You can use '/Users/mohan/Desktop/INFO7390/Assignment2' instead of '\"/Users/mohan/Desktop/INFO7390/Assignment2\"' if you require traitlets >=5.\n",
      "\u001b[1;31m  warn(. \n",
      "\u001b[1;31mView Jupyter <a href='command:jupyter.viewOutput'>log</a> for further details."
     ]
    }
   ],
   "source": [
    "Metrics(test_y,test_predictionTanh)"
   ]
  }
 ],
 "metadata": {
  "kernelspec": {
   "display_name": "Python 3",
   "language": "python",
   "name": "python3"
  },
  "language_info": {
   "codemirror_mode": {
    "name": "ipython",
    "version": 3
   },
   "file_extension": ".py",
   "mimetype": "text/x-python",
   "name": "python",
   "nbconvert_exporter": "python",
   "pygments_lexer": "ipython3",
   "version": "3.11.0 (v3.11.0:deaf509e8f, Oct 24 2022, 14:43:23) [Clang 13.0.0 (clang-1300.0.29.30)]"
  },
  "vscode": {
   "interpreter": {
    "hash": "aee8b7b246df8f9039afb4144a1f6fd8d2ca17a180786b69acc140d282b71a49"
   }
  }
 },
 "nbformat": 4,
 "nbformat_minor": 5
}
